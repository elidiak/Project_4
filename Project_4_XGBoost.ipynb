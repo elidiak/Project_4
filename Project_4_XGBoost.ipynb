{
 "cells": [
  {
   "metadata": {},
   "cell_type": "code",
   "outputs": [],
   "execution_count": null,
   "source": [
    "import pandas as pd\n",
    "import numpy as np\n",
    "from sklearn.model_selection import TimeSeriesSplit\n",
    "from xgboost import XGBRegressor\n",
    "from sklearn.metrics import mean_squared_error"
   ],
   "id": "cf75daf02b49bc18"
  },
  {
   "metadata": {},
   "cell_type": "code",
   "outputs": [],
   "execution_count": null,
   "source": [
    "# Load and merge data\n",
    "energy_df = pd.read_csv('energy.csv')\n",
    "weather_df = pd.read_csv('weather.csv')\n",
    "df = pd.merge(energy_df, weather_df, on=['state', 'month'])"
   ],
   "id": "21a337dd611dbafd"
  },
  {
   "metadata": {},
   "cell_type": "code",
   "outputs": [],
   "execution_count": null,
   "source": [
    "# Sort data chronologically\n",
    "df['date'] = pd.to_datetime(df['month'])\n",
    "df = df.sort_values('date')"
   ],
   "id": "f0e22b715f214d85"
  },
  {
   "metadata": {},
   "cell_type": "code",
   "outputs": [],
   "execution_count": null,
   "source": [
    "# Feature engineering\n",
    "# df['year'] = df['date'].dt.year\n",
    "# df['season'] = df['date'].dt.month.map({12:1, 1:1, 2:1, 3:2, 4:2, 5:2, 6:3, 7:3, 8:3, 9:4, 10:4, 11:4})"
   ],
   "id": "e5b2e14ab49ade1d"
  },
  {
   "metadata": {},
   "cell_type": "code",
   "outputs": [],
   "execution_count": null,
   "source": [
    "# Create lag features and rolling statistics\n",
    "df['energy_lag_1'] = df.groupby('state')['energy_consumption'].shift(1)\n",
    "df['energy_lag_12'] = df.groupby('state')['energy_consumption'].shift(12)\n",
    "df['energy_rolling_mean'] = df.groupby('state')['energy_consumption'].rolling(window=3).mean().reset_index(0, drop=True)"
   ],
   "id": "d2a4fd8c62d7c2d9"
  },
  {
   "metadata": {},
   "cell_type": "code",
   "outputs": [],
   "execution_count": null,
   "source": [
    "# Prepare features and target\n",
    "features = ['average_temperature', 'average_precipitation', 'average_wind_speed',\n",
    "            'year', 'season', 'energy_lag_1', 'energy_lag_12', 'energy_rolling_mean']\n",
    "X = df[features].dropna()\n",
    "y = df['energy_consumption'].loc[X.index]"
   ],
   "id": "18d8339ecd505250"
  },
  {
   "metadata": {},
   "cell_type": "code",
   "outputs": [],
   "execution_count": null,
   "source": [
    "# Time-based split\n",
    "tscv = TimeSeriesSplit(n_splits=5)"
   ],
   "id": "d74ce7425948c40d"
  },
  {
   "metadata": {},
   "cell_type": "code",
   "outputs": [],
   "execution_count": null,
   "source": [
    "# Train and evaluate the model\n",
    "model = XGBRegressor(n_estimators=100, random_state=42)\n",
    "for train_index, test_index in tscv.split(X):\n",
    "    X_train, X_test = X.iloc[train_index], X.iloc[test_index]\n",
    "    y_train, y_test = y.iloc[train_index], y.iloc[test_index]\n",
    "\n",
    "    model.fit(X_train, y_train)\n",
    "    y_pred = model.predict(X_test)\n",
    "\n",
    "    mse = mean_squared_error(y_test, y_pred)\n",
    "    rmse = np.sqrt(mse)\n",
    "    print(f\"RMSE: {rmse}\")"
   ],
   "id": "4bab8a031f015a1c"
  },
  {
   "metadata": {},
   "cell_type": "code",
   "outputs": [],
   "execution_count": null,
   "source": [
    "# Forecast energy consumption\n",
    "last_data = X.iloc[-1].to_dict()\n",
    "new_weather_data = {\n",
    "    'average_temperature': 75,\n",
    "    'average_precipitation': 2.5,\n",
    "    'average_wind_speed': 10,\n",
    "    'year': 2024,\n",
    "    'season': 2,\n",
    "    'energy_lag_1': last_data['energy_consumption'],\n",
    "    'energy_lag_12': X['energy_consumption'].iloc[-12],\n",
    "    'energy_rolling_mean': X['energy_rolling_mean'].iloc[-1]\n",
    "}\n",
    "\n",
    "forecast = model.predict(pd.DataFrame([new_weather_data]))\n",
    "print(f\"Forecasted energy consumption: {forecast[0]}\")"
   ],
   "id": "8e714a53dc5f149b"
  }
 ],
 "metadata": {},
 "nbformat": 5,
 "nbformat_minor": 9
}
